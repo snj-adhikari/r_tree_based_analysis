{
  "nbformat": 4,
  "nbformat_minor": 0,
  "metadata": {
    "colab": {
      "name": "BigAssData.ipynb",
      "provenance": [],
      "collapsed_sections": [],
      "toc_visible": true
    },
    "kernelspec": {
      "name": "python3",
      "display_name": "Python 3"
    }
  },
  "cells": [
    {
      "cell_type": "markdown",
      "metadata": {
        "id": "t-IuOhTslKLE",
        "colab_type": "text"
      },
      "source": [
        "#Sequential Scan Vs Rtree method "
      ]
    },
    {
      "cell_type": "markdown",
      "metadata": {
        "id": "2wlvi04mYiai",
        "colab_type": "text"
      },
      "source": [
        "## Getting Started "
      ]
    },
    {
      "cell_type": "markdown",
      "metadata": {
        "id": "gkp9qbIRDo3c",
        "colab_type": "text"
      },
      "source": [
        "### Cloning from my own github repository to gain access to file provided by tutor."
      ]
    },
    {
      "cell_type": "code",
      "metadata": {
        "id": "jdkxupsLmBIH",
        "colab_type": "code",
        "outputId": "d6aef7f6-21a7-451d-8bad-409d16cfa13d",
        "colab": {
          "base_uri": "https://localhost:8080/",
          "height": 119
        }
      },
      "source": [
        "!git clone https://github.com/snj-adhikari/r_tree_sample.git"
      ],
      "execution_count": 1,
      "outputs": [
        {
          "output_type": "stream",
          "text": [
            "Cloning into 'r_tree_sample'...\n",
            "remote: Enumerating objects: 9, done.\u001b[K\n",
            "remote: Counting objects: 100% (9/9), done.\u001b[K\n",
            "remote: Compressing objects: 100% (7/7), done.\u001b[K\n",
            "remote: Total 9 (delta 0), reused 6 (delta 0), pack-reused 0\u001b[K\n",
            "Unpacking objects: 100% (9/9), done.\n"
          ],
          "name": "stdout"
        }
      ]
    },
    {
      "cell_type": "markdown",
      "metadata": {
        "id": "XsZu_eCbIb1U",
        "colab_type": "text"
      },
      "source": [
        " Just changing the directory to currently cloned directory"
      ]
    },
    {
      "cell_type": "code",
      "metadata": {
        "id": "vo02MKfIIRzN",
        "colab_type": "code",
        "outputId": "0aa33d10-1689-44ea-bc7c-0237aaec35c8",
        "colab": {
          "base_uri": "https://localhost:8080/",
          "height": 34
        }
      },
      "source": [
        "%cd /content/r_tree_sample"
      ],
      "execution_count": 2,
      "outputs": [
        {
          "output_type": "stream",
          "text": [
            "/content/r_tree_sample\n"
          ],
          "name": "stdout"
        }
      ]
    },
    {
      "cell_type": "markdown",
      "metadata": {
        "id": "OpbknFE3DwgJ",
        "colab_type": "text"
      },
      "source": [
        "### Creating dataframe from dataset.txt"
      ]
    },
    {
      "cell_type": "markdown",
      "metadata": {
        "id": "cREFECCZfNbJ",
        "colab_type": "text"
      },
      "source": [
        "We were provided with dataset.txt file for our assignment.\n",
        "Here , the first line of the file provides the no of dataset present. so , we used first line to get total no of dataset and following lines where used to create dataset DataFrame. \n",
        "\n",
        "Each line of text file was splitted , getting id , x_cord , y_cord from each line. \n",
        "So index column of dataframe was replaced using **id** got from the each line and two columns named x_cord , y_cord was made on the dataframe."
      ]
    },
    {
      "cell_type": "code",
      "metadata": {
        "id": "ta7kNZ4zJnrK",
        "colab_type": "code",
        "outputId": "6f07c08f-a7a9-43ba-ce20-5d19155bf463",
        "colab": {
          "base_uri": "https://localhost:8080/",
          "height": 235
        }
      },
      "source": [
        "import re\n",
        "import pandas as pd\n",
        "\n",
        "dataFile = 'dataset_r.txt'\n",
        "dataset_list = []\n",
        "no_of_data =0\n",
        "count = 0\n",
        "with open(dataFile) as f:\n",
        "    for line in f:\n",
        "        # remove whitespace at the start and the newline at the end\n",
        "        line = line.strip()\n",
        "        if(count == 0):\n",
        "          no_of_data = line.strip()\n",
        "        else :\n",
        "          # split each column on whitespace\n",
        "          columns = re.split('\\s+', line)\n",
        "          dataset_list.append(columns)\n",
        "#           print(columns)\n",
        "        \n",
        "        count +=1\n",
        "\n",
        "dataframe_of_datalist =  pd.DataFrame(dataset_list , columns=['id' , 'x_cod' , 'y_cod'])\n",
        "\n",
        "dataframe_of_datalist = dataframe_of_datalist.apply(pd.to_numeric)\n",
        "dataframe_of_datalist.set_index('id', inplace=True)\n",
        "dataframe_of_datalist.head()"
      ],
      "execution_count": 4,
      "outputs": [
        {
          "output_type": "execute_result",
          "data": {
            "text/html": [
              "<div>\n",
              "<style scoped>\n",
              "    .dataframe tbody tr th:only-of-type {\n",
              "        vertical-align: middle;\n",
              "    }\n",
              "\n",
              "    .dataframe tbody tr th {\n",
              "        vertical-align: top;\n",
              "    }\n",
              "\n",
              "    .dataframe thead th {\n",
              "        text-align: right;\n",
              "    }\n",
              "</style>\n",
              "<table border=\"1\" class=\"dataframe\">\n",
              "  <thead>\n",
              "    <tr style=\"text-align: right;\">\n",
              "      <th></th>\n",
              "      <th>x_cod</th>\n",
              "      <th>y_cod</th>\n",
              "    </tr>\n",
              "    <tr>\n",
              "      <th>id</th>\n",
              "      <th></th>\n",
              "      <th></th>\n",
              "    </tr>\n",
              "  </thead>\n",
              "  <tbody>\n",
              "    <tr>\n",
              "      <th>1</th>\n",
              "      <td>8224</td>\n",
              "      <td>78217</td>\n",
              "    </tr>\n",
              "    <tr>\n",
              "      <th>2</th>\n",
              "      <td>68940</td>\n",
              "      <td>46095</td>\n",
              "    </tr>\n",
              "    <tr>\n",
              "      <th>3</th>\n",
              "      <td>92607</td>\n",
              "      <td>82845</td>\n",
              "    </tr>\n",
              "    <tr>\n",
              "      <th>4</th>\n",
              "      <td>59</td>\n",
              "      <td>99459</td>\n",
              "    </tr>\n",
              "    <tr>\n",
              "      <th>5</th>\n",
              "      <td>14140</td>\n",
              "      <td>65521</td>\n",
              "    </tr>\n",
              "  </tbody>\n",
              "</table>\n",
              "</div>"
            ],
            "text/plain": [
              "    x_cod  y_cod\n",
              "id              \n",
              "1    8224  78217\n",
              "2   68940  46095\n",
              "3   92607  82845\n",
              "4      59  99459\n",
              "5   14140  65521"
            ]
          },
          "metadata": {
            "tags": []
          },
          "execution_count": 4
        }
      ]
    },
    {
      "cell_type": "markdown",
      "metadata": {
        "id": "LOpkX254Lb1F",
        "colab_type": "text"
      },
      "source": [
        "### Creating queries DataFrame from queries.txt"
      ]
    },
    {
      "cell_type": "markdown",
      "metadata": {
        "id": "rUSVQeZWd_jC",
        "colab_type": "text"
      },
      "source": [
        "here , we have read queris.txt using Open function of python. Then created array based on spliting space on each line of the file. Since , we need co-ordinate x_1 , y_1 , x_2 , y_2 for our rtree package to get point boundaries. The default file provide the structure of x_1 , x_2 , y_1 , y_2  , we had to re-arrange the array converted from spliting the each line to format we needed.\n",
        "\n",
        "Hence , the resulting dataframe has column x_1 , y_1 , x_2 , y_2 along with index."
      ]
    },
    {
      "cell_type": "code",
      "metadata": {
        "colab_type": "code",
        "outputId": "01217687-9926-47da-acc7-176ad80ad980",
        "id": "RjU5GEw_MCoO",
        "colab": {
          "base_uri": "https://localhost:8080/",
          "height": 204
        }
      },
      "source": [
        "import re\n",
        "import pandas as pd\n",
        "\n",
        "queryFile = 'queries.txt'\n",
        "queries_list = []\n",
        "no_of_data =0\n",
        "count = 0\n",
        "with open(queryFile) as f:\n",
        "    for line in f:\n",
        "        # remove whitespace at the start and the newline at the end\n",
        "        line = line.strip()\n",
        "        \n",
        "        # split each column on whitespace\n",
        "        columns = re.split('\\s+', line)\n",
        "        re_index = [columns[0] , columns[2]  , columns[1] , columns[3]]\n",
        "        queries_list.append(re_index)\n",
        "#           print(columns)\n",
        "        \n",
        "        count +=1\n",
        "\n",
        "dataframe_of_queries =  pd.DataFrame(queries_list , columns=['x_1' , 'y_1' , 'x_2', 'y_2'])\n",
        "\n",
        "dataframe_of_queries = dataframe_of_queries.apply(pd.to_numeric)\n",
        "dataframe_of_queries.head()"
      ],
      "execution_count": 5,
      "outputs": [
        {
          "output_type": "execute_result",
          "data": {
            "text/html": [
              "<div>\n",
              "<style scoped>\n",
              "    .dataframe tbody tr th:only-of-type {\n",
              "        vertical-align: middle;\n",
              "    }\n",
              "\n",
              "    .dataframe tbody tr th {\n",
              "        vertical-align: top;\n",
              "    }\n",
              "\n",
              "    .dataframe thead th {\n",
              "        text-align: right;\n",
              "    }\n",
              "</style>\n",
              "<table border=\"1\" class=\"dataframe\">\n",
              "  <thead>\n",
              "    <tr style=\"text-align: right;\">\n",
              "      <th></th>\n",
              "      <th>x_1</th>\n",
              "      <th>y_1</th>\n",
              "      <th>x_2</th>\n",
              "      <th>y_2</th>\n",
              "    </tr>\n",
              "  </thead>\n",
              "  <tbody>\n",
              "    <tr>\n",
              "      <th>0</th>\n",
              "      <td>17840</td>\n",
              "      <td>13971</td>\n",
              "      <td>18840</td>\n",
              "      <td>14971</td>\n",
              "    </tr>\n",
              "    <tr>\n",
              "      <th>1</th>\n",
              "      <td>33451</td>\n",
              "      <td>29693</td>\n",
              "      <td>34451</td>\n",
              "      <td>30693</td>\n",
              "    </tr>\n",
              "    <tr>\n",
              "      <th>2</th>\n",
              "      <td>791</td>\n",
              "      <td>2515</td>\n",
              "      <td>1791</td>\n",
              "      <td>3515</td>\n",
              "    </tr>\n",
              "    <tr>\n",
              "      <th>3</th>\n",
              "      <td>81921</td>\n",
              "      <td>94973</td>\n",
              "      <td>82921</td>\n",
              "      <td>95973</td>\n",
              "    </tr>\n",
              "    <tr>\n",
              "      <th>4</th>\n",
              "      <td>75678</td>\n",
              "      <td>53545</td>\n",
              "      <td>76678</td>\n",
              "      <td>54545</td>\n",
              "    </tr>\n",
              "  </tbody>\n",
              "</table>\n",
              "</div>"
            ],
            "text/plain": [
              "     x_1    y_1    x_2    y_2\n",
              "0  17840  13971  18840  14971\n",
              "1  33451  29693  34451  30693\n",
              "2    791   2515   1791   3515\n",
              "3  81921  94973  82921  95973\n",
              "4  75678  53545  76678  54545"
            ]
          },
          "metadata": {
            "tags": []
          },
          "execution_count": 5
        }
      ]
    },
    {
      "cell_type": "code",
      "metadata": {
        "id": "RweOHihfcu74",
        "colab_type": "code",
        "colab": {}
      },
      "source": [
        ""
      ],
      "execution_count": 0,
      "outputs": []
    },
    {
      "cell_type": "markdown",
      "metadata": {
        "id": "9cLm2OTzlRsr",
        "colab_type": "text"
      },
      "source": [
        "## Lets use Sequential Scan based on panda DataFrame "
      ]
    },
    {
      "cell_type": "markdown",
      "metadata": {
        "id": "u-5smxylEmra",
        "colab_type": "text"
      },
      "source": [
        "This function takes two parameter **data** and **queries** which is both DataFrame type.\n",
        "This is the manaul  function , we loop through queries dataframe and use dataframe default **loc** function to compare dataset values on dataset dataframe passed on the function to find the resulting points between the queries co-ordinates. Finally , return the execution time taken by the sequential scan based  method to get result on 100 queries.\n",
        "\n",
        "Pandas DataFrame.loc attribute access a group of rows and columns by label(s) or a boolean array in the given DataFrame. On our case each cell is scanned by the function based on our condition and return the cell that satisfies the result."
      ]
    },
    {
      "cell_type": "code",
      "metadata": {
        "id": "8r1z0cQSNRn2",
        "colab_type": "code",
        "colab": {}
      },
      "source": [
        "import time\n",
        "def gen_sequence_method(data , queries):\n",
        "  start_seq = time.process_time()\n",
        "  test_count = []\n",
        "  # for index,item in enumerate(test):\n",
        "  for i,query in queries.iterrows() : \n",
        "    query_result = dataframe_of_datalist.loc[((dataframe_of_datalist['x_cod'] >= query['x_1']) & (dataframe_of_datalist['x_cod'] <= query['x_2'])) & ((dataframe_of_datalist['y_cod'] >= query['x_1']) & (dataframe_of_datalist['y_cod'] <= query['x_2']))]\n",
        "    test_count.append(len(query_result.index))\n",
        "  end_seq = time.process_time()\n",
        "\n",
        "  time_expand = end_seq - start_seq\n",
        "  print(\"Sequential Query start\")\n",
        "  print(\"******************************************\")\n",
        "  print(\"Points found :: \" , test_count)\n",
        "  print( \"Total Time taken :: \" , time_expand)\n",
        "  print(\"Average Time Taken by each query :: \",time_expand/100 )\n",
        "  print(\"******************************************\")\n",
        "\n",
        "  return time_expand\n",
        "    \n"
      ],
      "execution_count": 0,
      "outputs": []
    },
    {
      "cell_type": "markdown",
      "metadata": {
        "id": "4tyCwjADlGMh",
        "colab_type": "text"
      },
      "source": [
        "#R-Tree Based Method"
      ]
    },
    {
      "cell_type": "markdown",
      "metadata": {
        "id": "xJsQuAGSgnBE",
        "colab_type": "text"
      },
      "source": [
        "Installing rtree and necessary libraries"
      ]
    },
    {
      "cell_type": "code",
      "metadata": {
        "id": "2ku6mdJNR52p",
        "colab_type": "code",
        "colab": {
          "base_uri": "https://localhost:8080/",
          "height": 717
        },
        "outputId": "4252e611-5c04-412c-bac6-c1a574b511b8"
      },
      "source": [
        "!pip install rtree\n",
        "!sudo apt install libspatialindex-dev"
      ],
      "execution_count": 7,
      "outputs": [
        {
          "output_type": "stream",
          "text": [
            "Collecting rtree\n",
            "  Downloading https://files.pythonhosted.org/packages/33/0d/0bcb0fdd759570e85697189f675fa462131e5636482f2832288bbe4bb6f7/Rtree-0.8.3-py3-none-any.whl\n",
            "Requirement already satisfied: setuptools in /usr/local/lib/python3.6/dist-packages (from rtree) (41.2.0)\n",
            "Installing collected packages: rtree\n",
            "Successfully installed rtree-0.8.3\n",
            "Reading package lists... Done\n",
            "Building dependency tree       \n",
            "Reading state information... Done\n",
            "The following additional packages will be installed:\n",
            "  libspatialindex-c4v5 libspatialindex4v5\n",
            "The following NEW packages will be installed:\n",
            "  libspatialindex-c4v5 libspatialindex-dev libspatialindex4v5\n",
            "0 upgraded, 3 newly installed, 0 to remove and 8 not upgraded.\n",
            "Need to get 555 kB of archives.\n",
            "After this operation, 3,308 kB of additional disk space will be used.\n",
            "Get:1 http://archive.ubuntu.com/ubuntu bionic/universe amd64 libspatialindex4v5 amd64 1.8.5-5 [219 kB]\n",
            "Get:2 http://archive.ubuntu.com/ubuntu bionic/universe amd64 libspatialindex-c4v5 amd64 1.8.5-5 [51.7 kB]\n",
            "Get:3 http://archive.ubuntu.com/ubuntu bionic/universe amd64 libspatialindex-dev amd64 1.8.5-5 [285 kB]\n",
            "Fetched 555 kB in 1s (373 kB/s)\n",
            "debconf: unable to initialize frontend: Dialog\n",
            "debconf: (No usable dialog-like program is installed, so the dialog based frontend cannot be used. at /usr/share/perl5/Debconf/FrontEnd/Dialog.pm line 76, <> line 3.)\n",
            "debconf: falling back to frontend: Readline\n",
            "debconf: unable to initialize frontend: Readline\n",
            "debconf: (This frontend requires a controlling tty.)\n",
            "debconf: falling back to frontend: Teletype\n",
            "dpkg-preconfigure: unable to re-open stdin: \n",
            "Selecting previously unselected package libspatialindex4v5:amd64.\n",
            "(Reading database ... 131183 files and directories currently installed.)\n",
            "Preparing to unpack .../libspatialindex4v5_1.8.5-5_amd64.deb ...\n",
            "Unpacking libspatialindex4v5:amd64 (1.8.5-5) ...\n",
            "Selecting previously unselected package libspatialindex-c4v5:amd64.\n",
            "Preparing to unpack .../libspatialindex-c4v5_1.8.5-5_amd64.deb ...\n",
            "Unpacking libspatialindex-c4v5:amd64 (1.8.5-5) ...\n",
            "Selecting previously unselected package libspatialindex-dev:amd64.\n",
            "Preparing to unpack .../libspatialindex-dev_1.8.5-5_amd64.deb ...\n",
            "Unpacking libspatialindex-dev:amd64 (1.8.5-5) ...\n",
            "Setting up libspatialindex4v5:amd64 (1.8.5-5) ...\n",
            "Setting up libspatialindex-c4v5:amd64 (1.8.5-5) ...\n",
            "Processing triggers for libc-bin (2.27-3ubuntu1) ...\n",
            "Setting up libspatialindex-dev:amd64 (1.8.5-5) ...\n"
          ],
          "name": "stdout"
        }
      ]
    },
    {
      "cell_type": "markdown",
      "metadata": {
        "id": "lqF7TaePDngP",
        "colab_type": "text"
      },
      "source": [
        "This function takes two parameter **data** and **queries** which is both DataFrame type.\n",
        "This is the rtee package based function , we create index from given dataset passed on the function and used passed queries to find the resulting points between the queries co-ordinates. Finally , return the execution time taken by the rtree method to get result on 100 queries."
      ]
    },
    {
      "cell_type": "code",
      "metadata": {
        "id": "9WRfJIi32ObC",
        "colab_type": "code",
        "colab": {}
      },
      "source": [
        "from rtree import index \n",
        "\n",
        "def using_rtree_method(data , queries) :\n",
        "  idx = index.Index()\n",
        "  index_start = time.process_time()\n",
        "  for i, points in data.iterrows() : \n",
        "    idx.insert(i, points.to_list())\n",
        "  \n",
        "\n",
        "  query_start = time.process_time()\n",
        "  test_count = []\n",
        "  for i,query in queries.iterrows() : \n",
        "    # print(query.to_list())\n",
        "    result_points = list(idx.intersection(query.to_list()))\n",
        "    test_count.append(len(result_points))\n",
        "  \n",
        "  query_end = time.process_time()\n",
        "  query_time = query_end - query_start\n",
        "  print(\"R tree based method start\")\n",
        "  print('_________________________________________')\n",
        "  print('Number of points :', test_count)\n",
        "  print('Time taken for 100 queries :',query_time)\n",
        "  print('Average time taken by single query :' , query_time/100)\n",
        "\n",
        "  return query_time\n",
        "\n",
        "\n"
      ],
      "execution_count": 0,
      "outputs": []
    },
    {
      "cell_type": "markdown",
      "metadata": {
        "id": "lpoVXY8tDSou",
        "colab_type": "text"
      },
      "source": [
        "## Nows Lets Compare result between this two method"
      ]
    },
    {
      "cell_type": "code",
      "metadata": {
        "id": "Bnew7pCdBl7s",
        "colab_type": "code",
        "colab": {
          "base_uri": "https://localhost:8080/",
          "height": 275
        },
        "outputId": "e761fc6f-4b1c-417c-ba12-0449858b1de5"
      },
      "source": [
        "seq_time = gen_sequence_method(dataframe_of_datalist , dataframe_of_queries)\n",
        "rtree_time = using_rtree_method(dataframe_of_datalist , dataframe_of_queries)\n",
        "\n",
        "print(\"******************************************\")\n",
        "print(\"Comparing the time taken by both \\n lets c what happens\" , seq_time/rtree_time)"
      ],
      "execution_count": 9,
      "outputs": [
        {
          "output_type": "stream",
          "text": [
            "Sequential Query start\n",
            "******************************************\n",
            "Points found ::  [7, 10, 10, 17, 10, 8, 13, 7, 10, 14, 9, 9, 10, 14, 11, 7, 12, 6, 11, 11, 8, 9, 10, 13, 11, 11, 8, 10, 5, 8, 13, 10, 7, 12, 9, 10, 8, 6, 7, 10, 6, 13, 14, 9, 14, 15, 9, 16, 9, 11, 13, 14, 11, 20, 12, 9, 4, 10, 8, 15, 17, 11, 10, 6, 11, 14, 10, 10, 6, 9, 13, 10, 8, 8, 8, 7, 8, 15, 9, 9, 7, 11, 16, 10, 8, 8, 7, 5, 7, 12, 8, 9, 11, 11, 11, 13, 11, 19, 13, 11]\n",
            "Total Time taken ::  0.38038798200000024\n",
            "Average Time Taken by each query ::  0.0038038798200000024\n",
            "******************************************\n",
            "R tree based method start\n",
            "_________________________________________\n",
            "Number of points : [15, 13, 9, 8, 8, 8, 12, 10, 9, 11, 11, 6, 6, 10, 6, 8, 10, 10, 11, 7, 11, 9, 4, 8, 11, 12, 7, 13, 9, 9, 8, 7, 9, 9, 10, 13, 9, 6, 8, 13, 12, 8, 8, 11, 11, 10, 8, 8, 12, 5, 7, 4, 6, 13, 9, 9, 7, 10, 16, 4, 11, 6, 6, 16, 14, 8, 11, 10, 7, 16, 13, 11, 10, 7, 10, 9, 10, 11, 6, 11, 10, 8, 9, 10, 20, 8, 8, 12, 7, 9, 5, 14, 11, 5, 6, 11, 11, 15, 8, 14]\n",
            "Time taken for 100 queries : 0.022211095999999486\n",
            "Average time taken by single query : 0.00022211095999999486\n",
            "******************************************\n",
            "Comparing the time taken by both \n",
            " lets c what happens 17.126033852629742\n"
          ],
          "name": "stdout"
        }
      ]
    }
  ]
}